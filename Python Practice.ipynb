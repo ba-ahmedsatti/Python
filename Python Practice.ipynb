{
 "cells": [
  {
   "cell_type": "code",
   "execution_count": 5,
   "id": "36d8ff7a-197b-43db-84a3-3d11fc5de9b0",
   "metadata": {},
   "outputs": [
    {
     "name": "stdout",
     "output_type": "stream",
     "text": [
      "Hello World\n"
     ]
    }
   ],
   "source": [
    "print('Hello World')"
   ]
  },
  {
   "cell_type": "code",
   "execution_count": 12,
   "id": "2b5143ab-d36a-42fa-9a40-fe1e55b9069f",
   "metadata": {},
   "outputs": [],
   "source": [
    "name = input('What is your name?')\n",
    "color = input('What is your favorite color?')"
   ]
  },
  {
   "cell_type": "code",
   "execution_count": 13,
   "id": "3143ebe3-0842-4f43-8fc3-0f3e8a109427",
   "metadata": {},
   "outputs": [
    {
     "name": "stdout",
     "output_type": "stream",
     "text": [
      "ahmed purple\n"
     ]
    }
   ],
   "source": [
    "print(name, color)"
   ]
  },
  {
   "cell_type": "code",
   "execution_count": 14,
   "id": "c8057bbf-3f6f-40df-a912-4c05bf089a85",
   "metadata": {},
   "outputs": [
    {
     "name": "stdout",
     "output_type": "stream",
     "text": [
      "Hi ahmed! purple is a great color!\n"
     ]
    }
   ],
   "source": [
    "print('Hi ' + name + '! ' + color + ' is a great color!')"
   ]
  },
  {
   "cell_type": "code",
   "execution_count": 15,
   "id": "ebae677e-63b0-4f21-b74c-cd0984949690",
   "metadata": {},
   "outputs": [],
   "source": [
    "def addFive (x):\n",
    "    print (5+x)"
   ]
  },
  {
   "cell_type": "code",
   "execution_count": 16,
   "id": "305ff5a3-57bd-4a3d-afd3-180bc60fa4e8",
   "metadata": {},
   "outputs": [
    {
     "name": "stdout",
     "output_type": "stream",
     "text": [
      "7\n"
     ]
    }
   ],
   "source": [
    "addFive(2)"
   ]
  },
  {
   "cell_type": "code",
   "execution_count": 17,
   "id": "5b2c1a32-c0f2-4bdf-828c-d08ea8d5e92e",
   "metadata": {},
   "outputs": [
    {
     "name": "stdout",
     "output_type": "stream",
     "text": [
      "35\n"
     ]
    }
   ],
   "source": [
    "addFive(30)"
   ]
  },
  {
   "cell_type": "code",
   "execution_count": 18,
   "id": "ff142506-3596-40f2-8dfd-3a8d719a2f90",
   "metadata": {},
   "outputs": [
    {
     "name": "stdout",
     "output_type": "stream",
     "text": [
      "67.5\n"
     ]
    }
   ],
   "source": [
    "addFive(62.5)"
   ]
  },
  {
   "cell_type": "code",
   "execution_count": 19,
   "id": "d2b7f558-3e36-4752-8a36-563a77618c25",
   "metadata": {},
   "outputs": [
    {
     "name": "stdout",
     "output_type": "stream",
     "text": [
      "405\n"
     ]
    }
   ],
   "source": [
    "addFive(400)"
   ]
  },
  {
   "cell_type": "code",
   "execution_count": 20,
   "id": "4c6b6455-0774-4c43-98ed-1558f3341010",
   "metadata": {},
   "outputs": [],
   "source": [
    "def greeting():\n",
    "    print('Hi there!')"
   ]
  },
  {
   "cell_type": "code",
   "execution_count": 21,
   "id": "35ed5800-751c-4ea4-8159-fcf264d186ff",
   "metadata": {},
   "outputs": [
    {
     "name": "stdout",
     "output_type": "stream",
     "text": [
      "Hi there!\n"
     ]
    }
   ],
   "source": [
    "greeting()"
   ]
  },
  {
   "cell_type": "code",
   "execution_count": 22,
   "id": "fc4f4337-3435-45be-a801-753c4a36e16f",
   "metadata": {},
   "outputs": [],
   "source": [
    "def greet(name):\n",
    "    print('Hi ' + name + '!')"
   ]
  },
  {
   "cell_type": "code",
   "execution_count": 23,
   "id": "6ea34cf6-39e8-4911-9463-2c0444875cd2",
   "metadata": {},
   "outputs": [
    {
     "name": "stdout",
     "output_type": "stream",
     "text": [
      "Hi Joshua!\n"
     ]
    }
   ],
   "source": [
    "greet(\"Joshua\")"
   ]
  },
  {
   "cell_type": "code",
   "execution_count": 24,
   "id": "43df1f34-3fff-4f6d-8bb2-d8aaedc31425",
   "metadata": {},
   "outputs": [],
   "source": [
    "def square(x):\n",
    "    return x*x"
   ]
  },
  {
   "cell_type": "code",
   "execution_count": 25,
   "id": "ec810a12-a435-4566-b3d7-e40ef4c1a7aa",
   "metadata": {},
   "outputs": [],
   "source": [
    "result = square(5)"
   ]
  },
  {
   "cell_type": "code",
   "execution_count": 26,
   "id": "28e5eac3-bb32-43ec-9ad0-481fa0360550",
   "metadata": {},
   "outputs": [
    {
     "name": "stdout",
     "output_type": "stream",
     "text": [
      "25\n"
     ]
    }
   ],
   "source": [
    "print(result)"
   ]
  },
  {
   "cell_type": "code",
   "execution_count": 27,
   "id": "db149280-692d-471e-96a2-4284671b1afe",
   "metadata": {},
   "outputs": [],
   "source": [
    "anotherOne = square(result)"
   ]
  },
  {
   "cell_type": "code",
   "execution_count": 28,
   "id": "9ec47cea-185a-4371-b61e-e69b5b84543f",
   "metadata": {},
   "outputs": [
    {
     "name": "stdout",
     "output_type": "stream",
     "text": [
      "625\n"
     ]
    }
   ],
   "source": [
    "print(anotherOne)"
   ]
  },
  {
   "cell_type": "code",
   "execution_count": 30,
   "id": "e64e84c5-3b1a-4e4e-9233-a603bf6b9f4f",
   "metadata": {},
   "outputs": [],
   "source": [
    "def sumOfSquares(x,y):\n",
    "    square1 = x*x\n",
    "    square2 = y*y\n",
    "    return square1 + square2"
   ]
  },
  {
   "cell_type": "code",
   "execution_count": 31,
   "id": "83d54376-3178-4792-a736-4b890822a196",
   "metadata": {},
   "outputs": [],
   "source": [
    "result = sumOfSquares(2,3)"
   ]
  },
  {
   "cell_type": "code",
   "execution_count": 32,
   "id": "0f0d72a7-cc91-43fa-89eb-5d9a4d50dc4c",
   "metadata": {},
   "outputs": [
    {
     "name": "stdout",
     "output_type": "stream",
     "text": [
      "13\n"
     ]
    }
   ],
   "source": [
    "print(result)"
   ]
  },
  {
   "cell_type": "code",
   "execution_count": 33,
   "id": "57ad6579-fe85-4aaf-b72a-da94d22dba60",
   "metadata": {},
   "outputs": [],
   "source": [
    "def is_it_raining():\n",
    "    raining = input('Is it raining today?')\n",
    "    return raining"
   ]
  },
  {
   "cell_type": "code",
   "execution_count": 34,
   "id": "935193b1-4df6-4b68-b03f-d503192bfc27",
   "metadata": {},
   "outputs": [
    {
     "name": "stdout",
     "output_type": "stream",
     "text": [
      "<function is_it_raining at 0x000002B35F70D080>\n"
     ]
    }
   ],
   "source": [
    "print(is_it_raining)"
   ]
  },
  {
   "cell_type": "code",
   "execution_count": 39,
   "id": "b259ccc5-276d-4400-ac5e-4530ede82145",
   "metadata": {},
   "outputs": [],
   "source": [
    "monday_rain = is_it_raining()"
   ]
  },
  {
   "cell_type": "code",
   "execution_count": 40,
   "id": "67a92da6-4953-40b8-9a26-4b1c1129e903",
   "metadata": {},
   "outputs": [
    {
     "name": "stdout",
     "output_type": "stream",
     "text": [
      "yes\n"
     ]
    }
   ],
   "source": [
    "print(monday_rain)"
   ]
  },
  {
   "cell_type": "code",
   "execution_count": 41,
   "id": "3bea4d36-6c1f-4bea-ac5d-8a9b54faae3c",
   "metadata": {},
   "outputs": [],
   "source": [
    "import calendar"
   ]
  },
  {
   "cell_type": "code",
   "execution_count": 42,
   "id": "81209311-c5e8-4f0f-8498-8f3f21633671",
   "metadata": {},
   "outputs": [],
   "source": [
    "cal = calendar.month(2019,7)"
   ]
  },
  {
   "cell_type": "code",
   "execution_count": 43,
   "id": "fd05dc08-d647-4321-9d04-81758767aa94",
   "metadata": {},
   "outputs": [
    {
     "name": "stdout",
     "output_type": "stream",
     "text": [
      "     July 2019\n",
      "Mo Tu We Th Fr Sa Su\n",
      " 1  2  3  4  5  6  7\n",
      " 8  9 10 11 12 13 14\n",
      "15 16 17 18 19 20 21\n",
      "22 23 24 25 26 27 28\n",
      "29 30 31\n",
      "\n"
     ]
    }
   ],
   "source": [
    "print(cal)"
   ]
  },
  {
   "cell_type": "code",
   "execution_count": null,
   "id": "e77cbec6-4541-43fd-9547-7a9332b50e1e",
   "metadata": {},
   "outputs": [],
   "source": []
  },
  {
   "cell_type": "code",
   "execution_count": null,
   "id": "44bbb007-1d9d-4ba4-a2a4-3b3815060b43",
   "metadata": {},
   "outputs": [],
   "source": []
  },
  {
   "cell_type": "code",
   "execution_count": null,
   "id": "784acd2e-47fc-4602-86d1-7d7265a9bdbb",
   "metadata": {},
   "outputs": [],
   "source": []
  },
  {
   "cell_type": "code",
   "execution_count": null,
   "id": "108e66f3-ae95-45f5-b6da-f685899b542a",
   "metadata": {},
   "outputs": [],
   "source": []
  },
  {
   "cell_type": "code",
   "execution_count": null,
   "id": "34676d11-aa8b-40b7-9ccd-c8c9ee5ecd49",
   "metadata": {},
   "outputs": [],
   "source": []
  },
  {
   "cell_type": "code",
   "execution_count": null,
   "id": "5ae0e68f-feac-4c1c-b2c3-c7a20522a57e",
   "metadata": {},
   "outputs": [],
   "source": []
  },
  {
   "cell_type": "code",
   "execution_count": null,
   "id": "b2c308dc-bc34-4bfb-9840-fa090736245d",
   "metadata": {},
   "outputs": [],
   "source": []
  },
  {
   "cell_type": "code",
   "execution_count": null,
   "id": "07e9cc87-878f-48ef-b911-4de33eae3e92",
   "metadata": {},
   "outputs": [],
   "source": []
  },
  {
   "cell_type": "code",
   "execution_count": null,
   "id": "4a8eb716-a7d1-4937-9b49-bc74bfe6dad3",
   "metadata": {},
   "outputs": [],
   "source": []
  },
  {
   "cell_type": "code",
   "execution_count": null,
   "id": "1622958f-08df-4abb-9e2e-1fa59745135a",
   "metadata": {},
   "outputs": [],
   "source": []
  },
  {
   "cell_type": "code",
   "execution_count": null,
   "id": "cc5bcafd-9d0b-4b33-b2d9-f7b85dc7cde6",
   "metadata": {},
   "outputs": [],
   "source": []
  },
  {
   "cell_type": "code",
   "execution_count": null,
   "id": "4a159ae8-51c2-4098-bfd9-463b5fadc2bf",
   "metadata": {},
   "outputs": [],
   "source": []
  },
  {
   "cell_type": "code",
   "execution_count": null,
   "id": "eacd023b-852c-4145-8251-f7c8bfaab87b",
   "metadata": {},
   "outputs": [],
   "source": []
  },
  {
   "cell_type": "code",
   "execution_count": null,
   "id": "9c607faa-2dda-496d-a7a2-c7eb215efe70",
   "metadata": {},
   "outputs": [],
   "source": []
  },
  {
   "cell_type": "code",
   "execution_count": null,
   "id": "8ce2be30-9590-43f0-9987-35722f4574ad",
   "metadata": {},
   "outputs": [],
   "source": []
  },
  {
   "cell_type": "code",
   "execution_count": null,
   "id": "25bcd2bc-245c-4624-8c76-ec708b35024b",
   "metadata": {},
   "outputs": [],
   "source": []
  },
  {
   "cell_type": "code",
   "execution_count": null,
   "id": "b76ce672-7051-404b-99f4-47f35629c042",
   "metadata": {},
   "outputs": [],
   "source": []
  }
 ],
 "metadata": {
  "kernelspec": {
   "display_name": "Python 3",
   "language": "python",
   "name": "python3"
  },
  "language_info": {
   "codemirror_mode": {
    "name": "ipython",
    "version": 3
   },
   "file_extension": ".py",
   "mimetype": "text/x-python",
   "name": "python",
   "nbconvert_exporter": "python",
   "pygments_lexer": "ipython3",
   "version": "3.12.3"
  }
 },
 "nbformat": 4,
 "nbformat_minor": 5
}
